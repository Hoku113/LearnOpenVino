{
 "cells": [
  {
   "cell_type": "markdown",
   "metadata": {},
   "source": [
    "## Quantize a Segmentation Model and Show Live Inference"
   ]
  },
  {
   "cell_type": "code",
   "execution_count": 1,
   "metadata": {},
   "outputs": [
    {
     "name": "stdout",
     "output_type": "stream",
     "text": [
      "Added C:\\Program Files\\Microsoft Visual Studio\\2022\\Community\\VC\\Tools\\MSVC\\14.30.30705\\bin\\Hostx86\\x64 to PATH\n"
     ]
    }
   ],
   "source": [
    "\"\"\"\n",
    "On Windows, try to find the directory that contains x64 cl.exe and add it to the PATH to enable PyTorch\n",
    "to find the required C++ tools. This code assumes that Visual Studio is installed in the default\n",
    "directory. If you have a different C++ compiler, please add the correct path to os.environ[\"PATH\"]\n",
    "directly. Note that the C++ Redistributable is not enough to run this notebook.\n",
    "\n",
    "Adding the path to os.environ[\"LIB\"] is not always required - it depends on the system's configuration\n",
    "\"\"\"\n",
    "\n",
    "from re import search\n",
    "import sys\n",
    "\n",
    "if sys.platform == \"win32\":\n",
    "    import distutils.command.build_ext\n",
    "    import os\n",
    "    from pathlib import Path\n",
    "\n",
    "    if sys.getwindowsversion().build >= 20000:\n",
    "        search_path = \"**/Hostx64/x64/cl.exe\"    \n",
    "    else:\n",
    "        search_path = \"**/Hostx86/x64/cl.exe\"\n",
    "\n",
    "    VS_INSTALL_DIR_2019 = r\"C:/Program Files (x86)/Microsoft Visual Studio\"\n",
    "    VS_INSTALL_DIR_2022 = r\"C:/Program Files/Microsoft Visual Studio\"\n",
    "\n",
    "    cl_paths_2019 = sorted(list(Path(VS_INSTALL_DIR_2019).glob(search_path)))\n",
    "    cl_paths_2022 = sorted(list(Path(VS_INSTALL_DIR_2022).glob(search_path)))\n",
    "    cl_paths = cl_paths_2019 + cl_paths_2022\n",
    "\n",
    "    if len(cl_paths) == 0:\n",
    "        raise ValueError(\n",
    "            \"\"\"\n",
    "            Cannnot find Visual Studio. This notebook requires an x64 C++ compiler. If you installed a\n",
    "            C++ compiler, please add the directory that contains cl.exe to `os.environ[PATH]`\n",
    "            \"\"\"\n",
    "        )\n",
    "\n",
    "    else:\n",
    "        cl_path = cl_paths[-1]\n",
    "        vs_dir = str(cl_path.parent)\n",
    "        os.environ[\"PATH\"] += f\"{os.pathsep}{vs_dir}\"\n",
    "        d =  distutils.core.Distribution()\n",
    "        b = distutils.command.build_ext.build_ext(d)\n",
    "        b.finalize_options()\n",
    "        os.environ[\"LIB\"] = os.pathsep.join(b.library_dirs)\n",
    "        print(f\"Added {vs_dir} to PATH\")"
   ]
  },
  {
   "cell_type": "code",
   "execution_count": 2,
   "metadata": {},
   "outputs": [
    {
     "name": "stdout",
     "output_type": "stream",
     "text": [
      "No CUDA runtime is found, using CUDA_HOME='C:\\Program Files\\NVIDIA GPU Computing Toolkit\\CUDA\\v11.6'\n"
     ]
    },
    {
     "data": {
      "text/html": [
       "<div class=\"alert alert-warning\">WARNING: Running this notebook requires an x64 C++ compiler"
      ],
      "text/plain": [
       "<IPython.core.display.HTML object>"
      ]
     },
     "metadata": {},
     "output_type": "display_data"
    }
   ],
   "source": [
    "import logging\n",
    "import os\n",
    "import sys\n",
    "import time\n",
    "from tkinter.ttk import Notebook\n",
    "import warnings\n",
    "import zipfile\n",
    "from pathlib import Path\n",
    "\n",
    "warnings.filterwarnings(\"ignore\", category=UserWarning)\n",
    "\n",
    "import cv2\n",
    "import matplotlib.pyplot as plt\n",
    "import monai\n",
    "import numpy as np\n",
    "import torch\n",
    "from monai.transforms import LoadImage\n",
    "from nncf.common.utils.logger import set_log_level\n",
    "from openvino.inference_engine import IECore\n",
    "from openvino.runtime import Core\n",
    "from torch.jit import TracerWarning\n",
    "from torchmetrics import F1\n",
    "\n",
    "set_log_level(logging.ERROR)\n",
    "\n",
    "sys.path.append(\"../utils/\")\n",
    "from models.custom_segmentation import SegmentationModel\n",
    "from notebook_utils import NotebookAlert, benchmark_model, download_file, show_live_inference\n",
    "\n",
    "try:\n",
    "    import subprocess\n",
    "    from nncf import NNCFConfig\n",
    "    from nncf.torch import create_compressed_model, register_default_init_args\n",
    "except subprocess.CalledProcessError:\n",
    "    message = \"WARNING: Running this notebook requires an x64 C++ compiler\"\n",
    "    NotebookAlert(message=message, alert_class=\"warning\")\n"
   ]
  },
  {
   "cell_type": "markdown",
   "metadata": {},
   "source": [
    "### Settings"
   ]
  },
  {
   "cell_type": "code",
   "execution_count": null,
   "metadata": {},
   "outputs": [],
   "source": [
    "BASEDIR = Path(\"kits19_frames_1\")\n",
    "# Uncomment the line below to use the full dataset, as prepared in the data preparation notebook\n",
    "# BASEDIR = Path(\"~/kits19/kits19_frames\").expanduser()\n",
    "MODEL_DIR = Path(\"model\")\n",
    "MODEL_DIR.mkdir(exist_ok=True)"
   ]
  }
 ],
 "metadata": {
  "kernelspec": {
   "display_name": "Python 3.9.5 ('.openvino-venv': venv)",
   "language": "python",
   "name": "python3"
  },
  "language_info": {
   "codemirror_mode": {
    "name": "ipython",
    "version": 3
   },
   "file_extension": ".py",
   "mimetype": "text/x-python",
   "name": "python",
   "nbconvert_exporter": "python",
   "pygments_lexer": "ipython3",
   "version": "3.9.5"
  },
  "orig_nbformat": 4,
  "vscode": {
   "interpreter": {
    "hash": "d0799a591d602a7578f1ccf5f8e7829399f6cceabacecc6a7299b85400bce773"
   }
  }
 },
 "nbformat": 4,
 "nbformat_minor": 2
}
